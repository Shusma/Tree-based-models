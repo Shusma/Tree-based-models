{
 "cells": [
  {
   "cell_type": "markdown",
   "metadata": {},
   "source": [
    "# Ensemble Methods\n",
    "\n",
    "## Majority Voting\n",
    "\n",
    "[<img src=\"https://www.researchgate.net/publication/324014302/figure/fig2/AS:644424015040514@1530654066950/Majority-voting-algorithm.png\">](https://www.researchgate.net/publication/324014302/figure/fig2/AS:644424015040514@1530654066950/Majority-voting-algorithm.png)"
   ]
  },
  {
   "cell_type": "markdown",
   "metadata": {},
   "source": [
    "$$ P_f = mode\\{C_1(x), C_2(x), .. C_m(x)\\}$$  where  $C_i(x) = P_i$\n",
    "\n",
    "### Why Majority Vote?\n",
    "- assume $m$ independent classifiers with base error rate $\\epsilon$ \n",
    "- *independent* means errors are not correlated\n",
    "- assume binary classification \n",
    "- assume the error rate is better than random guessing < 0.5\n",
    "- $\\forall \\epsilon_i \\in \\{\\epsilon_1, \\epsilon_2, .. \\epsilon_m\\}, \\epsilon_i < 0.5 $ \n",
    "\n",
    "The probability that we make a wrong prediction via the ensemble if $k$ classifiers predict the same class label (pmf of a binomial distribution).\n",
    "\n",
    "$$ P(k) = \\frac{m!}{(m-k)!k!} \\epsilon^k (1-\\epsilon)^{m-k} $$ \n",
    "\n",
    "Ensemble Error: Cumulative probability distribution\n",
    "\n",
    "$$ \\epsilon_{ens} = \\sum_k^m \\frac{m!}{(m-k)!k!} \\epsilon^k (1-\\epsilon)^{m-k} $$\n",
    "\n",
    "### Soft Voting\n",
    "\n",
    "$$ \\hat{y} = argmax_j \\sum_{i=1}^m w_i p_{i,j}$$\n",
    "\n",
    "where \n",
    "\n",
    "- $w_i$ is an optional weighing parameter $w_i = \\frac{1}{m}, \\quad$  $\\forall w_i \\in \\{w_1,...w_m\\} $\n",
    "\n",
    "- $p_{i,j}$ is the predicted class membership probability of the $i{th}$ classifier for class label $j$."
   ]
  },
  {
   "cell_type": "code",
   "execution_count": 1,
   "metadata": {},
   "outputs": [],
   "source": [
    "import numpy as np\n",
    "from sklearn import datasets\n",
    "from sklearn.model_selection import train_test_split\n",
    "\n",
    "%matplotlib inline\n",
    "import matplotlib.pyplot as plt\n",
    "\n",
    "from sklearn.tree import DecisionTreeClassifier\n",
    "from mlxtend.plotting import plot_decision_regions\n",
    "from mlxtend.classifier import EnsembleVoteClassifier\n",
    "from sklearn.ensemble import VotingClassifier"
   ]
  },
  {
   "cell_type": "code",
   "execution_count": 2,
   "metadata": {},
   "outputs": [
    {
     "name": "stdout",
     "output_type": "stream",
     "text": [
      "Train/Valid/Test sizes: 84 28 38\n"
     ]
    }
   ],
   "source": [
    "iris = datasets.load_iris()\n",
    "X, y = iris.data[:, [0, 1, 2, 3]], iris.target\n",
    "\n",
    "X_train, X_test, y_train, y_test = \\\n",
    "    train_test_split(X, y, test_size=0.25, random_state=1)\n",
    "\n",
    "X_train, X_val, y_train, y_val = \\\n",
    "    train_test_split(X_train, y_train, test_size=0.25, random_state=1)\n",
    "\n",
    "print('Train/Valid/Test sizes:', y_train.shape[0], y_val.shape[0], y_test.shape[0])"
   ]
  },
  {
   "cell_type": "code",
   "execution_count": 3,
   "metadata": {},
   "outputs": [
    {
     "name": "stdout",
     "output_type": "stream",
     "text": [
      "Validation Accuracy: 0.96 [Classifier 1]\n",
      "Validation Accuracy: 0.82 [Classifier 2]\n",
      "Validation Accuracy: 1.00 [Classifier 3]\n",
      "Validation Accuracy: 1.00 [Ensemble]\n",
      "Test Accuracy: 0.97\n"
     ]
    }
   ],
   "source": [
    "clf1 = DecisionTreeClassifier(random_state=1)\n",
    "clf2 = DecisionTreeClassifier(random_state=1, max_depth=1)\n",
    "clf3 = DecisionTreeClassifier(random_state=1, max_depth=3)\n",
    "eclf = EnsembleVoteClassifier(clfs=[clf1, clf2, clf3], weights=[1, 1, 1])\n",
    "\n",
    "labels = ['Classifier 1', 'Classifier 2', 'Classifier 3', 'Ensemble']\n",
    "for clf, label in zip([clf1, clf2, clf3, eclf], labels):\n",
    "\n",
    "    clf.fit(X_train, y_train)\n",
    "    print(\"Validation Accuracy: %0.2f [%s]\" % (clf.score(X_val, y_val), label))\n",
    "    \n",
    "print(\"Test Accuracy: %0.2f\" % eclf.score(X_test, y_test))"
   ]
  },
  {
   "cell_type": "code",
   "execution_count": 4,
   "metadata": {},
   "outputs": [
    {
     "name": "stdout",
     "output_type": "stream",
     "text": [
      "Validation Accuracy: 0.96 [Classifier 1]\n",
      "Validation Accuracy: 0.82 [Classifier 2]\n",
      "Validation Accuracy: 1.00 [Classifier 3]\n",
      "Validation Accuracy: 1.00 [Ensemble]\n",
      "Test Accuracy: 0.97\n"
     ]
    }
   ],
   "source": [
    "clf1 = DecisionTreeClassifier(random_state=1)\n",
    "clf2 = DecisionTreeClassifier(random_state=1, max_depth=1)\n",
    "clf3 = DecisionTreeClassifier(random_state=1, max_depth=3)\n",
    "eclf = VotingClassifier(estimators=[('dt1', clf1), ('dt2', clf2), ('dt3', clf3)], weights=[1,1,1])\n",
    "\n",
    "labels = ['Classifier 1', 'Classifier 2', 'Classifier 3', 'Ensemble']\n",
    "for clf, label in zip([clf1, clf2, clf3, eclf], labels):\n",
    "\n",
    "    clf.fit(X_train, y_train)\n",
    "    print(\"Validation Accuracy: %0.2f [%s]\" % (clf.score(X_val, y_val), label))\n",
    "    \n",
    "print(\"Test Accuracy: %0.2f\" % eclf.score(X_test, y_test))"
   ]
  },
  {
   "cell_type": "markdown",
   "metadata": {},
   "source": [
    "# Bagging (Bootstrap Aggregating)\n",
    "\n",
    "Let m be the number of bootstrap samples\n",
    "\n",
    "**for** $i=1$ to $m$ **do**:\n",
    "- Draw bootstrap sample of size $n$, $D_i$\n",
    "- Train base classifier $C_i$ on $D_i$\n",
    "\n",
    "$$ P_f = mode\\{C_1(x), C_2(x), .. C_n(x)\\}$$  where  $C_i(x) = P_i$\n",
    "\n",
    "**Bootstrap sampling** \n",
    "\n",
    "Drawing data points from the dataset with replacement until we reach the $n$ training set size. \"Replacement\" means that some records will be duplicated in the bootstrap dataset. Each datapoint is drawn independently from the training set by randomly sampling with a uniform distribution ($\\frac{1}{n}$ training set size).\n",
    "\n",
    "This is a way of enforcing **complexity control** and is often an alternative to cross-validation. \n",
    "\n",
    "The records that are not chosen are referred to as the OOB (out of bag) samples. \n",
    "\n",
    "$$ P(not\\_chosen) = \\Bigg(1-\\frac{1}{n}\\Bigg)^n $$\n",
    "\n",
    "$$ n \\to \\infty \\quad P(not\\_chosen) = \\frac{1}{e} \\approx 0.368 $$\n",
    "\n",
    "$$ P(chosen) = 1 - \\Bigg(1-\\frac{1}{n}\\Bigg)^n \\approx 0.632 $$\n",
    "\n",
    "i.e. only 63.2% of the bootstrap sample is unique.\n",
    "\n",
    "> - The classifier $C_i$ are usually unpruned, deep decision trees.\n",
    "> - The step of computing $m$ bootstrap samples and their respective decision trees & predictions can be PARALLELISED (n_jobs parameter in sklearn) "
   ]
  },
  {
   "cell_type": "markdown",
   "metadata": {},
   "source": [
    "[<img src=\"https://www.oreilly.com/library/view/python-machine-learning/9781787125933/graphics/B07030_07_06.jpg\">](https://www.oreilly.com/library/view/python-machine-learning/9781787125933/graphics/B07030_07_06.jpg)"
   ]
  },
  {
   "cell_type": "markdown",
   "metadata": {},
   "source": [
    "### Bias-Variance trade-off \n",
    "\n",
    "$$Loss = Bias + Variance + Noise $$\n",
    "\n",
    "> - Best case scenario: **Low bias & Low Variance**\n",
    "- Overfitting: **Low Bias & High Variance** \n",
    "- Underfitting: **High Bias & Low Variance** \n",
    "- Worst case scenario: **High bias & High Variance**\n",
    "\n",
    "\n",
    "Typically, over-fitting arises as a result of the bias-variance trade off with over-fitted models suffering from a high variance error (highly sensitive to changes in training data) and a low bias error (few assumptions are made about underlying data). This would make the model too complex and specific to the features in the training data set, fitting their random noise."
   ]
  },
  {
   "cell_type": "markdown",
   "metadata": {},
   "source": [
    "<img src=\"https://miro.medium.com/max/978/1*CgIdnlB6JK8orFKPXpc7Rg.png\" alt=\"biasv\" width=\"600\"/>\n",
    "<table><tr>\n",
    "<td> <img src=\"http://rasbt.github.io/mlxtend/user_guide/evaluate/bias_variance_decomp_files/high-bias-plot.png\" alt=\"Drawing\" style=\"width: 500px;\"/> </td>\n",
    "<td> <img src=\"http://rasbt.github.io/mlxtend/user_guide/evaluate/bias_variance_decomp_files/varianceplot.png\" alt=\"Drawing\" style=\"width: 500px;\"/> </td>\n",
    "</tr></table>"
   ]
  },
  {
   "cell_type": "markdown",
   "metadata": {},
   "source": [
    "The high-variance plot above shows different unpruned decision tree models, each fit to a different bootstrapped training set. It is evident that these hypotheses fit the training data very closely and the variance is very high, since on average, a prediction differs a lot from the expectation value of the prediction. \n",
    "\n",
    "However, if we would consider the expectation over training sets, the average hypothesis would fit the true function perfectly (given that the noise is unbiased and has an expected value of 0).  \n",
    "\n",
    "> An individual, unpruned decision tree will “have high variance”. Averaging such high variance models will actually result in good predictions. A bagging model has a lower variance than the individual trees and therefore is less prone to overfitting.\n",
    "\n",
    "### Mathematical Aside: Formal definition of Bias-Variance trade off\n",
    "\n",
    "Assume we have a point estimator $\\hat{\\theta}$ of some parameter or function $\\theta$. Then, the bias is commonly defined as the difference between the expected value of the estimator and the parameter that we want to estimate:\n",
    "\n",
    "$$ Bias = E[\\hat{\\theta}] - \\theta $$\n",
    "\n",
    "If the bias is larger than zero, we can say that the estimator is positively biased, if the bias is smaller than zero, the estimator is negatively biased, and if the bias is exactly zero, the estimator is unbiased. \n",
    "\n",
    "Similarly, we define the variance as the difference between the expected value of the squared estimator minus the squared expectation of the estimator:\n",
    "\n",
    "$$ Var(\\hat{\\theta}) = E[\\hat{\\theta}^2] - \\Big(E[\\hat{\\theta}]\\Big)^2  = E[(E[\\hat{\\theta}] - \\hat{\\theta})^2]$$\n",
    "\n",
    "**Key definitions** \n",
    "\n",
    "- the true or target function as $ y = f(x) $,\n",
    "- the predicted target value as $\\hat{y} = \\hat{f}(x) = C(x)$,\n",
    "- the squared loss as $S = (y - \\hat{y})^2 $\n",
    "\n",
    "$$ S = (y - \\hat{y})^2 = (y - E[\\hat{y}] + E[\\hat{y}] - \\hat{y})^2 $$\n",
    "\n",
    "Let $ a = (y - E[\\hat{y}])$ and $ b = (E[\\hat{y}] - \\hat{y})$. Therefore, using $(a+b)^2 = a^2 + b^2 - 2ab$.\n",
    "\n",
    "$$ S = (y - E[\\hat{y}])^2 + (E[\\hat{y}] - \\hat{y})^2 - 2(y - E[\\hat{y}])(E[\\hat{y}] - \\hat{y}) $$\n",
    "\n",
    "Next, take the expection on both sides:\n",
    "\n",
    "$$ \n",
    "\\begin{equation}\n",
    "\\begin{split} \n",
    "E[S]\n",
    "& = E[(y - \\hat{y})^2] \\\\\n",
    "& = E\\Big[(y - E[\\hat{y}])^2 + (E[\\hat{y}] - \\hat{y})^2 - 2(y - E[\\hat{y}])(E[\\hat{y}] - \\hat{y})\\Big] \\\\\n",
    "& = E\\Big[(y - E[\\hat{y}])^2\\Big] + E\\Big[(E[\\hat{y}] - \\hat{y})^2\\Big] - E\\Big[2(y - E[\\hat{y}])(E[\\hat{y}] - \\hat{y})\\Big] \\\\\n",
    "& = (y - E[\\hat{y}])^2 + E\\Big[(E[\\hat{y}] - \\hat{y})^2\\Big] \\\\\n",
    "& = [Bias]^2 + Variance\n",
    "\\end{split}\n",
    "\\end{equation}\n",
    "$$\n",
    "\n",
    "\n",
    "The \"$2ab$\" term actually disappears when the expectation is taken as shown below.\n",
    "$$ \n",
    "\\begin{equation}\n",
    "\\begin{split} \n",
    "E\\Big[2(y - E[\\hat{y}])(E[\\hat{y}] - \\hat{y})\\Big]  \n",
    "& = 2E\\Big[(y - E[\\hat{y}])(E[\\hat{y}] - \\hat{y})\\Big] \\\\ \n",
    "& =  2(y - E[\\hat{y}])E\\Big[(E[\\hat{y}] - \\hat{y})\\Big] \\\\\n",
    "& = 2(y - E[\\hat{y}])(E[E[\\hat{y}]] - E[\\hat{y}]) \\\\\n",
    "& = 2(y - E[\\hat{y}])(E[\\hat{y}] - E[\\hat{y}]) \\\\\n",
    "& = 0\n",
    "\\end{split}\n",
    "\\end{equation} $$"
   ]
  },
  {
   "cell_type": "markdown",
   "metadata": {},
   "source": [
    "## Scikit learn demo - Bagging"
   ]
  },
  {
   "cell_type": "code",
   "execution_count": 5,
   "metadata": {},
   "outputs": [
    {
     "name": "stdout",
     "output_type": "stream",
     "text": [
      "OOB Accuracy: 0.95\n",
      "Test Accuracy: 0.97\n"
     ]
    }
   ],
   "source": [
    "from sklearn.ensemble import BaggingClassifier\n",
    "\n",
    "tree = DecisionTreeClassifier(criterion='entropy',\n",
    "                              random_state=1,\n",
    "                              max_depth=None)\n",
    "\n",
    "\n",
    "bag = BaggingClassifier(base_estimator=tree,\n",
    "                        n_estimators=500,\n",
    "                        oob_score=True,\n",
    "                        bootstrap=True,\n",
    "                        bootstrap_features=False,\n",
    "                        n_jobs=1,\n",
    "                        random_state=1)\n",
    "\n",
    "bag.fit(X_train, y_train)\n",
    "    \n",
    "print(\"OOB Accuracy: %0.2f\" % bag.oob_score_)\n",
    "print(\"Test Accuracy: %0.2f\" % bag.score(X_test, y_test))"
   ]
  },
  {
   "cell_type": "markdown",
   "metadata": {},
   "source": [
    "# Random Forests\n",
    "\n",
    "Random Forest = Bagging w/ Decision Trees + Random feature subsets\n",
    "\n",
    "At each node, a random tree only sees a random subset of features. This subset of features is chosen by $log_2p + 1$, where $p$ is the no. of input features. Usually decision trees see all features at each node.\n",
    "\n",
    "Let $m$ be the no. of bootstrap samples\n",
    "1. For $i=1$  to $m$:\n",
    "     - Draw a bootstrap sample $D_i$ of size $n$,  from the training data\n",
    "     - Grow a random-forest tree $RT_i$ to the bootstrapped data, by recursively repeating the following steps for each terminal node of the tree, until the minimium node size $node_{min}$ is reached. \n",
    "         - Select $q$ variables at random from the $p$ input variables.\n",
    "         - Pick the best variable/split-point among the $q$.\n",
    "         - Split the node into two daughter nodes.\n",
    "2. Output  the ensemble of trees $\\{RT_i\\}_1^m$\n",
    "\n",
    "To make a prediction at a new point x:\n",
    "\n",
    "*Classification:* $\\hat{P_{rf}} = majority\\_vote\\{\\hat{P_i}\\}_1^m $, where $\\hat{P_i}$ is the class prediction of the $i^{th}$ random-forest tree.\n",
    "\n",
    "*Regression:* $\\hat{f}_{rf} = \\frac{1}{m} \\sum_{i=1}^m RT_i(x)$\n",
    "\n",
    "### Randomisation \n",
    "\n",
    "#### Feature Importance Vs Random Forests\n",
    "While random forests are naturally less interpretable than individual decision trees, where we can trace a decision via a rule sets, it is possible (and common) to compute the so-called “feature importance” of the inputs – that means, we can infer how important a feature is for the overall prediction.\n",
    "Randomised node optimistaion: If $T$ is the entire set of all possible parameters $\\theta$ then when training the $j^{th}$ node we only make available a small subset $T_j \\subset T$ of such values.\n",
    "\n",
    "$$ \\theta_j^* = argmax_{\\theta_j \\in T_j} I_j $$\n",
    "\n",
    "\n",
    "### (Loose) Upper Bound for Generalisation Error\n",
    "\n",
    "$$ PE \\leq \\frac{\\bar{\\rho}\\times(1-s^2)}{s^2} $$\n",
    "\n",
    "PE is the prediction error, $\\bar{\\rho}$ is the average correlation among trees i.e. similarity among trees, $s$ is the \"strength\" of the ensemble i.e. how good the trees are.\n",
    "\n",
    "The lower the correlation between the trees, the lower the prediction error. Similarly, the higher the \"strength\" of the ensemble, the lower the error. \n",
    "\n",
    "There is a trade-off between this and randomisation. \n",
    "- Larger the similarity, the smaller the benefit of having an ensemble\n",
    "- However, introducing randomness to reduce correlation and create different trees will decline performance - as the optimal features might not be considered in the nodes.\n",
    "\n",
    "In **Bagging**, the trees themselves generally perform better as each node sees the complete feature set BUT the downside is the trees are generally more similar, so the effect of the ensemble is unremarkable.\n",
    "\n",
    "In **Random Forests**, the trees themselves are weaker, but they are less similar."
   ]
  },
  {
   "cell_type": "code",
   "execution_count": 6,
   "metadata": {},
   "outputs": [
    {
     "name": "stdout",
     "output_type": "stream",
     "text": [
      "Test Accuracy: 0.97\n"
     ]
    }
   ],
   "source": [
    "from sklearn.ensemble import RandomForestClassifier\n",
    "\n",
    "\n",
    "forest = RandomForestClassifier(n_estimators=100,\n",
    "                                random_state=1)\n",
    "\n",
    "forest.fit(X_train, y_train)\n",
    "print(\"Test Accuracy: %0.2f\" % forest.score(X_test, y_test))"
   ]
  },
  {
   "cell_type": "markdown",
   "metadata": {},
   "source": [
    "## Population Stability Index \n",
    "\n"
   ]
  },
  {
   "cell_type": "markdown",
   "metadata": {},
   "source": [
    "### Random Forest Feature Importance\n",
    "\n",
    "#### Sklearn Implementation\n",
    "\n",
    "Usually measured as\n",
    "- impurity decrease (Gini, Entropy) for a given node/feature decision\n",
    "- weighted by number of examples at that node\n",
    "- averaged over all trees\n",
    "- then normalize so that sum of feature importances sum to 1\n",
    "\n",
    "(Unfair for variables with many vs few values)"
   ]
  },
  {
   "cell_type": "code",
   "execution_count": 7,
   "metadata": {},
   "outputs": [
    {
     "data": {
      "image/png": "[encoded data removed]",
      "text/plain": [
       "<Figure size 432x288 with 1 Axes>"
      ]
     },
     "metadata": {
      "needs_background": "light"
     },
     "output_type": "display_data"
    }
   ],
   "source": [
    "fig, ax = plt.subplots()\n",
    "\n",
    "ax.bar(range(X_train.shape[1]), forest.feature_importances_)\n",
    "ax.set_xlim([-1, X.shape[1]])\n",
    "ax.set_xticks(range(X_train.shape[1]))\n",
    "ax.set_xticklabels(['sepal length', 'sepal width', 'petal length', 'petal width'])\n",
    "plt.show()"
   ]
  },
  {
   "cell_type": "markdown",
   "metadata": {},
   "source": [
    "### Feature Importance via Permutation\n",
    "\n",
    "#### Permutation Test\n",
    "\n",
    "- A nonparametric test procedure to test the null hypothesis that two different groups come from the same distribution\n",
    "- Can be used for significance or hypothesis testing w/o requiring to make any assumptions about the sampling distribution (e.g., it doesn't require the samples to be normal distributed).\n",
    "- Under the null hypothesis (treatment = control), any permutations are equally likely\n",
    "- Note that there are $(n+m)!$ permutations, where $n$ is the number of records in the treatment sample, and $m$ is the number of records in the control sample\n",
    "- For a two-sided test, we define the alternative hypothesis that the two samples are different (e.g., treatment != control)\n",
    "\n",
    "\n",
    "#### Method\n",
    "\n",
    "1. Compute the difference (eg: mean) of sample $x$ (size $n$) and sample $y$ (size $m$)\n",
    "2. Combine all measurements into a single dataset\n",
    "3. Draw a permuted dataset from all possible permutations of the dataset in 2.\n",
    "4. Divide the permuted dataset into two datasets $x'$ and $y'$ of size $n$ and $m$, respectively\n",
    "5. Compute the difference (eg: mean) of sample $x'$ and sample $y'$ and record this difference\n",
    "6. Repeat steps 3-5 until all permutations are evaluated\n",
    "7. Return the **p-value** as the number of times the recorded differences were more extreme than the original difference from 1., then divide this number by the total number of permutations\n",
    "\n",
    "Here, the **p-value** is defined as the **probability, given the null hypothesis (no difference between the samples) is true, that we obtain results that are at least as extreme as the results we observed (i.e., the sample difference from step 1).**\n",
    "\n",
    "$$ p(t > t_0) = \\frac{1}{(n+m)!} \\sum_{j=1}^{(n+m)!} I(t_j > t_0) $$\n",
    "\n",
    "where $t_0$ is the observed value of the test statistic, and $t$ is the t-value, the statistic computed from the resamples and I is the Indicator function.\n",
    "\n",
    "#### Mlxtend Wrapper for Feature Importance via Permutation\n",
    "\n",
    "[http://rasbt.github.io/mlxtend/user_guide/evaluate/feature_importance_permutation/](http://rasbt.github.io/mlxtend/user_guide/evaluate/feature_importance_permutation/)\n",
    "\n",
    "1. Take a model that was fit to the training set\n",
    "2. Estimate the predictive performance of the model on an independent dataset (e.g., validation dataset) and record it as the baseline performance\n",
    "3. For each feature i:\n",
    "    - randomly permute feature column i in the original dataset\n",
    "    - record the predictive performance of the model on the dataset with the permuted column\n",
    "    - compute the feature importance as the difference between the baseline performance (step 2) and the performance on the permuted dataset\n",
    "    - Repeat this loop exhaustively (all combinations) or a large number of times and compute the feature importance as the average difference\n",
    "    \n",
    "#### Column drop variant\n",
    "For each feature column i:\n",
    "1. temporarily remove column\n",
    "2. fit model to reduced dataset\n",
    "3. compute validation set performance and compare to before\n"
   ]
  },
  {
   "cell_type": "code",
   "execution_count": 8,
   "metadata": {},
   "outputs": [
    {
     "data": {
      "text/plain": [
       "array([0.        , 0.        , 0.10078947, 0.13763158])"
      ]
     },
     "execution_count": 8,
     "metadata": {},
     "output_type": "execute_result"
    }
   ],
   "source": [
    "from mlxtend.evaluate import feature_importance_permutation\n",
    "\n",
    "imp_vals, _ = feature_importance_permutation(\n",
    "    predict_method=forest.predict, \n",
    "    X=X_test,\n",
    "    y=y_test,\n",
    "    metric='accuracy',\n",
    "    num_rounds=100,\n",
    "    seed=1)\n",
    "\n",
    "imp_vals"
   ]
  },
  {
   "cell_type": "code",
   "execution_count": 9,
   "metadata": {},
   "outputs": [
    {
     "data": {
      "image/png": "[encoded data removed]",
      "text/plain": [
       "<Figure size 432x288 with 1 Axes>"
      ]
     },
     "metadata": {
      "needs_background": "light"
     },
     "output_type": "display_data"
    }
   ],
   "source": [
    "fig, ax = plt.subplots()\n",
    "\n",
    "ax.bar(range(X_train.shape[1]), imp_vals)\n",
    "ax.set_xlim([-1, X.shape[1]])\n",
    "ax.set_xticks(range(X_train.shape[1]))\n",
    "ax.set_xticklabels(['sepal length', 'sepal width', 'petal length', 'petal width'])\n",
    "plt.show()"
   ]
  },
  {
   "cell_type": "markdown",
   "metadata": {},
   "source": [
    "<!-- ### Random Forest Feature Importance \"Method B\"\n",
    "\n",
    "#### Out-of-bag accuracy:\n",
    "- During training, for each tree, make prediction for OOB sample (~1/3 of the training data)\n",
    "- Based on those predictions where feature i was OOB, compute label via majority vote among the trees that did not use feature i during model fitting\n",
    "- The proportion over all examples where the prediction (by majority vote) is correct is the OOB accuracy estimate\n",
    "\n",
    "#### Out-of-bag feature importance via permutation:\n",
    "- Count votes for correct class\n",
    "- Given feature i, permute this feature in OOB examples of a tree\n",
    "- Compute the number of correct votes after permutation from the number of votes before permutation for given tree\n",
    "- Repeat for all trees in the random forest and average the importance - Repeat for other features -->"
   ]
  },
  {
   "cell_type": "markdown",
   "metadata": {},
   "source": [
    "### Extremely Randomised Trees (ExtraTrees)\n",
    "\n",
    "Compared to regular random forests, the ExtraTrees algorithm selects a random feature at each decision tree nodes for splitting; hence, it is very fast because there is no information gain computation and feature comparison step.\n",
    "\n",
    "Intuitively, one might say that ExtraTrees have another “random component” (compared to random forests) to further reduce the correlation among trees – however, it might decrease the strength of the individual trees."
   ]
  },
  {
   "cell_type": "code",
   "execution_count": 10,
   "metadata": {},
   "outputs": [
    {
     "name": "stdout",
     "output_type": "stream",
     "text": [
      "Test Accuracy: 0.97\n"
     ]
    }
   ],
   "source": [
    "from sklearn.ensemble import ExtraTreesClassifier\n",
    "\n",
    "\n",
    "forest = ExtraTreesClassifier(n_estimators=100,\n",
    "                              random_state=1)\n",
    "\n",
    "forest.fit(X_train, y_train)\n",
    "    \n",
    "print(\"Test Accuracy: %0.2f\" % forest.score(X_test, y_test))"
   ]
  },
  {
   "cell_type": "code",
   "execution_count": 11,
   "metadata": {},
   "outputs": [
    {
     "data": {
      "image/png": "[encoded data removed]",
      "text/plain": [
       "<Figure size 432x288 with 1 Axes>"
      ]
     },
     "metadata": {
      "needs_background": "light"
     },
     "output_type": "display_data"
    }
   ],
   "source": [
    "fig, ax = plt.subplots()\n",
    "\n",
    "ax.bar(range(X_train.shape[1]), forest.feature_importances_)\n",
    "ax.set_xlim([-1, X.shape[1]])\n",
    "ax.set_xticks(range(X_train.shape[1]))\n",
    "ax.set_xticklabels(['sepal length', 'sepal width', 'petal length', 'petal width'])\n",
    "plt.show()"
   ]
  }
 ],
 "metadata": {
  "kernelspec": {
   "display_name": "Python 3",
   "language": "python",
   "name": "python3"
  },
  "language_info": {
   "codemirror_mode": {
    "name": "ipython",
    "version": 3
   },
   "file_extension": ".py",
   "mimetype": "text/x-python",
   "name": "python",
   "nbconvert_exporter": "python",
   "pygments_lexer": "ipython3",
   "version": "3.8.5"
  }
 },
 "nbformat": 4,
 "nbformat_minor": 4
}
